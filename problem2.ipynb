{
 "cells": [
  {
   "cell_type": "markdown",
   "id": "d8e6f54c",
   "metadata": {},
   "source": [
    "### Problem 2. 주어진  사진  샘플  3장에  원통형  투영을  적용해  하나의 이미지로 합치기"
   ]
  },
  {
   "cell_type": "markdown",
   "id": "41974994",
   "metadata": {},
   "source": []
  }
 ],
 "metadata": {
  "language_info": {
   "name": "python"
  }
 },
 "nbformat": 4,
 "nbformat_minor": 5
}
