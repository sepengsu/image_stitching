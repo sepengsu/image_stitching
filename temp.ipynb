{
 "cells": [
  {
   "cell_type": "code",
   "execution_count": 5,
   "id": "256b5760",
   "metadata": {},
   "outputs": [
    {
     "name": "stdout",
     "output_type": "stream",
     "text": [
      "focal_length_mm: 18.0\n",
      "focal_length_35mm: 27\n",
      "sensor_width_mm: 24.0\n",
      "image_width_px: 2000\n",
      "focal_length_pixel: 1500.0\n"
     ]
    }
   ],
   "source": [
    "from PIL import Image\n",
    "from PIL.ExifTags import TAGS\n",
    "\n",
    "def extract_focal_info(image_path):\n",
    "    image = Image.open(image_path)\n",
    "    exif_data = image._getexif()\n",
    "\n",
    "    if exif_data is None:\n",
    "        raise ValueError(\"EXIF 데이터가 없습니다.\")\n",
    "\n",
    "    exif = {}\n",
    "    for tag, value in exif_data.items():\n",
    "        tag_name = TAGS.get(tag, tag)\n",
    "        exif[tag_name] = value\n",
    "\n",
    "    # 1. 초점 거리 (mm)\n",
    "    f_mm = exif.get(\"FocalLength\")\n",
    "    if isinstance(f_mm, tuple):\n",
    "        f_mm = f_mm[0] / f_mm[1]\n",
    "\n",
    "    # 2. 35mm 환산 초점 거리\n",
    "    f_35mm = exif.get(\"FocalLengthIn35mmFilm\")\n",
    "\n",
    "    # 3. 이미지 너비 (픽셀)\n",
    "    image_width_px = exif.get(\"ExifImageWidth\", image.width)\n",
    "\n",
    "    if f_mm is None or f_35mm is None or image_width_px is None:\n",
    "        raise ValueError(\"EXIF에서 필요한 정보가 부족합니다.\")\n",
    "\n",
    "    # 4. 센서 가로 길이 (mm)\n",
    "    sensor_width_mm = (f_mm / f_35mm) * 36.0\n",
    "\n",
    "    # 5. 픽셀 기준 focal length\n",
    "    f_pixel = (f_mm / sensor_width_mm) * image_width_px\n",
    "\n",
    "    return {\n",
    "        \"focal_length_mm\": f_mm,\n",
    "        \"focal_length_35mm\": f_35mm,\n",
    "        \"sensor_width_mm\": sensor_width_mm,\n",
    "        \"image_width_px\": image_width_px,\n",
    "        \"focal_length_pixel\": f_pixel\n",
    "    }\n",
    "\n",
    "# 사용 예시\n",
    "info = extract_focal_info(\"./image/problem_2/3.jpg\")\n",
    "for k, v in info.items():\n",
    "    print(f\"{k}: {v}\")\n"
   ]
  },
  {
   "cell_type": "code",
   "execution_count": 6,
   "id": "5f967310",
   "metadata": {},
   "outputs": [
    {
     "name": "stdout",
     "output_type": "stream",
     "text": [
      "dict_keys(['PrintImageMatching', 'ResolutionUnit', 'ExifOffset', 'ImageDescription', 'Make', 'Model', 'Software', 'Orientation', 'DateTime', 'YCbCrPositioning', 'XResolution', 'YResolution', 'ExifVersion', 'ComponentsConfiguration', 'CompressedBitsPerPixel', 'DateTimeOriginal', 'DateTimeDigitized', 'BrightnessValue', 'ExposureBiasValue', 'MaxApertureValue', 'MeteringMode', 'LightSource', 'Flash', 'FocalLength', 'UserComment', 'ColorSpace', 'ExifImageWidth', 'SceneCaptureType', 'ExifImageHeight', 'Contrast', 'Saturation', 'Sharpness', 'FileSource', 'ExposureTime', 'ExifInteroperabilityOffset', 'FNumber', 'SceneType', 'ExposureProgram', 'CustomRendered', 'ISOSpeedRatings', 'ExposureMode', 'FlashPixVersion', 'WhiteBalance', 'FocalLengthIn35mmFilm', 'MakerNote'])\n"
     ]
    }
   ],
   "source": [
    "image = Image.open(\"./image/problem_2/3.jpg\")\n",
    "exif_data = image._getexif()\n",
    "data = {}\n",
    "for tag, value in exif_data.items():\n",
    "    tag_name = TAGS.get(tag, tag)\n",
    "    data[tag_name] = value\n",
    "\n",
    "print(data.keys())"
   ]
  },
  {
   "cell_type": "code",
   "execution_count": 12,
   "id": "29d2bc13",
   "metadata": {},
   "outputs": [
    {
     "name": "stdout",
     "output_type": "stream",
     "text": [
      "NEX-5N b'\\x01' 7.1 0.005 100 18.0 27\n"
     ]
    }
   ],
   "source": [
    "print(data['Model'],data['SceneType'],data['FNumber'],data['ExposureTime'],data['ISOSpeedRatings'],data['FocalLength'],data['FocalLengthIn35mmFilm'])"
   ]
  },
  {
   "cell_type": "code",
   "execution_count": 15,
   "id": "1434e0f0",
   "metadata": {},
   "outputs": [
    {
     "name": "stdout",
     "output_type": "stream",
     "text": [
      "Focal Length in Pixels: 1538.46\n",
      "(2000, 1329) 2000\n"
     ]
    }
   ],
   "source": [
    "def convert_focal_mm_to_pixel(f_mm, sensor_width_mm, image_width_px):\n",
    "    \"\"\"\n",
    "    mm 단위 초점 거리 -> 픽셀 단위 변환\n",
    "    \"\"\"\n",
    "    return (f_mm / sensor_width_mm) * image_width_px\n",
    "\n",
    "\n",
    "# Sony NEX-5N 기준 값\n",
    "sensor_width_mm = 23.4\n",
    "f_mm = data['FocalLength']  # EXIFFocalLength\n",
    "image_width_px = data['ExifImageWidth']  # EXIFImageWidth\n",
    "\n",
    "f_pixel = convert_focal_mm_to_pixel(f_mm, sensor_width_mm, image_width_px)\n",
    "print(f\"Focal Length in Pixels: {f_pixel:.2f}\")\n",
    "print(image.size, image_width_px)\n"
   ]
  }
 ],
 "metadata": {
  "kernelspec": {
   "display_name": "venv",
   "language": "python",
   "name": "python3"
  },
  "language_info": {
   "codemirror_mode": {
    "name": "ipython",
    "version": 3
   },
   "file_extension": ".py",
   "mimetype": "text/x-python",
   "name": "python",
   "nbconvert_exporter": "python",
   "pygments_lexer": "ipython3",
   "version": "3.12.10"
  }
 },
 "nbformat": 4,
 "nbformat_minor": 5
}
